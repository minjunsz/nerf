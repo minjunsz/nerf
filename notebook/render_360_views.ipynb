{
 "cells": [
  {
   "cell_type": "code",
   "execution_count": null,
   "metadata": {},
   "outputs": [],
   "source": [
    "%cd ..\n",
    "from pathlib import Path\n",
    "import numpy as np\n",
    "import torch\n",
    "import imageio\n",
    "\n",
    "import wandb\n",
    "from src.models.nerf_pl import NeRF\n",
    "from src.utils.generate_render_pose import c2w"
   ]
  },
  {
   "cell_type": "code",
   "execution_count": null,
   "metadata": {},
   "outputs": [],
   "source": [
    "@torch.no_grad()\n",
    "def render_imgs():\n",
    "    with torch.device('cuda:1'):\n",
    "        run = wandb.init(project='nerf')\n",
    "        artifact = run.use_artifact(\"minjunsz/nerf/model-7w6f2b8s:v21\", type=\"model\") # type: ignore\n",
    "        artifact_dir = artifact.download()\n",
    "        nerf = NeRF.load_from_checkpoint(Path(artifact_dir) / \"model.ckpt\")\n",
    "        nerf.eval()\n",
    "\n",
    "        r, phi = 4.0, 50.0\n",
    "        thetas = np.linspace(0, 360, 73)\n",
    "\n",
    "        for theta in thetas:\n",
    "            print(f\"Theta {theta} is rendering now...\")\n",
    "            c2w_matrix = c2w(r, theta, phi)\n",
    "            img = nerf.synthesis_novel_view(\n",
    "                nerf.train_dataset.height,\n",
    "                nerf.train_dataset.width,\n",
    "                nerf.train_dataset.K,\n",
    "                c2w_matrix,\n",
    "            )\n",
    "            wandb.log({\"rendered\": wandb.Image(img)})\n",
    "\n",
    "render_imgs()"
   ]
  },
  {
   "cell_type": "code",
   "execution_count": null,
   "metadata": {},
   "outputs": [],
   "source": [
    "api = wandb.Api()\n",
    "run = api.run(\"minjunsz/nerf/d3ofaq39\")\n",
    "\n",
    "for file in run.files():\n",
    "    if file.name.endswith('.png'):\n",
    "        file.download()\n",
    "\n",
    "gif_config = {\n",
    "    'loop':0, ## 0으로 세팅하면 무한 반복, 3으로 설정하면 3번 반복\n",
    "    'duration': 0.5 ## 다음 화면으로 넘어가는 시간\n",
    "}\n",
    "\n",
    "image_fnames = list(Path('./media/images').glob('*.png'))\n",
    "image_fnames.sort(key=lambda x: int(x.name.split('_')[-2])) #sort by step\n",
    "frames = [imageio.imread(image) for image in image_fnames]\n",
    "imageio.mimwrite('./result.gif', ## 저장 경로\n",
    "                frames, ## 이미지 리스트\n",
    "                format='gif', ## 저장 포맷\n",
    "                #**gif_config ## 부가 요소\n",
    "            )"
   ]
  },
  {
   "cell_type": "code",
   "execution_count": null,
   "metadata": {},
   "outputs": [],
   "source": []
  }
 ],
 "metadata": {
  "kernelspec": {
   "display_name": "nerf",
   "language": "python",
   "name": "python3"
  },
  "language_info": {
   "codemirror_mode": {
    "name": "ipython",
    "version": 3
   },
   "file_extension": ".py",
   "mimetype": "text/x-python",
   "name": "python",
   "nbconvert_exporter": "python",
   "pygments_lexer": "ipython3",
   "version": "3.11.4"
  },
  "orig_nbformat": 4
 },
 "nbformat": 4,
 "nbformat_minor": 2
}
